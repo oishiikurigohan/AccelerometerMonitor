{
  "nbformat": 4,
  "nbformat_minor": 0,
  "metadata": {
    "colab": {
      "name": "test.ipynb",
      "version": "0.3.2",
      "provenance": [],
      "toc_visible": true,
      "include_colab_link": true
    },
    "kernelspec": {
      "name": "python3",
      "display_name": "Python 3"
    },
    "accelerator": "GPU"
  },
  "cells": [
    {
      "cell_type": "markdown",
      "metadata": {
        "id": "view-in-github",
        "colab_type": "text"
      },
      "source": [
        "[View in Colaboratory](https://colab.research.google.com/github/oishiikurigohan/AccelerometerMonitor/blob/master/test.ipynb)"
      ]
    },
    {
      "metadata": {
        "id": "6SoFZLJhga2d",
        "colab_type": "text"
      },
      "cell_type": "markdown",
      "source": [
        "#Google Colabの環境確認"
      ]
    },
    {
      "metadata": {
        "id": "mOV466hVgRbp",
        "colab_type": "code",
        "colab": {}
      },
      "cell_type": "code",
      "source": [
        "!cat /etc/issue\n",
        "!df -h\n",
        "#!pip freeze\n",
        "#!cat /proc/cpuinfo\n",
        "#!cat /proc/driver/nvidia/gpus/0000:00:04.0/information"
      ],
      "execution_count": 0,
      "outputs": []
    },
    {
      "metadata": {
        "id": "mZI0fqLsfuRT",
        "colab_type": "text"
      },
      "cell_type": "markdown",
      "source": [
        "#TensorflowがGPUを認識しているか確認"
      ]
    },
    {
      "metadata": {
        "id": "E6Bf1AN8eVX8",
        "colab_type": "code",
        "colab": {}
      },
      "cell_type": "code",
      "source": [
        "from tensorflow.python.client import device_lib\n",
        "device_lib.list_local_devices()"
      ],
      "execution_count": 0,
      "outputs": []
    },
    {
      "metadata": {
        "id": "evdwNX8xe-Iz",
        "colab_type": "text"
      },
      "cell_type": "markdown",
      "source": [
        "# ngrokのインストール\n",
        "Google ColabでTensorBoardを利用するために、ローカルPCとの接続をトンネリングするツールをインストールします。"
      ]
    },
    {
      "metadata": {
        "id": "tuxy-aabNShG",
        "colab_type": "code",
        "colab": {},
        "cellView": "code"
      },
      "cell_type": "code",
      "source": [
        "!wget https://bin.equinox.io/c/4VmDzA7iaHb/ngrok-stable-linux-amd64.zip\n",
        "!unzip ngrok-stable-linux-amd64.zip"
      ],
      "execution_count": 0,
      "outputs": []
    },
    {
      "metadata": {
        "id": "uQ5MLbBTAv3u",
        "colab_type": "text"
      },
      "cell_type": "markdown",
      "source": [
        "# TensorBoardをバックグラウンドで実行"
      ]
    },
    {
      "metadata": {
        "id": "iTNNfftdA1QV",
        "colab_type": "code",
        "colab": {}
      },
      "cell_type": "code",
      "source": [
        "LOG_DIR = './log'\n",
        "get_ipython().system_raw(\n",
        "    'tensorboard --logdir {} --host 0.0.0.0 --port 6006 &'\n",
        "    .format(LOG_DIR)\n",
        ")"
      ],
      "execution_count": 0,
      "outputs": []
    },
    {
      "metadata": {
        "id": "tKCzelOwBPaO",
        "colab_type": "text"
      },
      "cell_type": "markdown",
      "source": [
        "# ngrokバックグラウンドプロセスを起動\n",
        "TensorBoardのポート6006を開放します。"
      ]
    },
    {
      "metadata": {
        "id": "2O_uaEWeBkGF",
        "colab_type": "code",
        "colab": {}
      },
      "cell_type": "code",
      "source": [
        "get_ipython().system_raw('./ngrok http 6006 &')"
      ],
      "execution_count": 0,
      "outputs": []
    },
    {
      "metadata": {
        "id": "ypNRsLc4bDMx",
        "colab_type": "text"
      },
      "cell_type": "markdown",
      "source": [
        "# TensorBoardのURLを取得"
      ]
    },
    {
      "metadata": {
        "id": "2hi2R_adbMei",
        "colab_type": "code",
        "colab": {}
      },
      "cell_type": "code",
      "source": [
        "!curl -s http://localhost:4040/api/tunnels | python3 -c \\\n",
        "    \"import sys, json; print(json.load(sys.stdin)['tunnels'][0]['public_url'])\""
      ],
      "execution_count": 0,
      "outputs": []
    },
    {
      "metadata": {
        "id": "pmPdxEoggxuw",
        "colab_type": "text"
      },
      "cell_type": "markdown",
      "source": [
        "# KerasのCNNモデルを実行"
      ]
    },
    {
      "metadata": {
        "id": "F0WTyPWqCS61",
        "colab_type": "code",
        "colab": {
          "base_uri": "https://localhost:8080/",
          "height": 1537
        },
        "outputId": "067bffed-9562-4ac1-878d-00a95587c74f"
      },
      "cell_type": "code",
      "source": [
        "import keras\n",
        "from keras.datasets import mnist\n",
        "from keras.models import Sequential\n",
        "from keras.layers import Dense, Dropout, Flatten\n",
        "from keras.layers import Conv2D, MaxPooling2D\n",
        "from keras.optimizers import RMSprop\n",
        "import matplotlib.pyplot as plt\n",
        "from keras import backend as K\n",
        "\n",
        "batch_size = 128\n",
        "num_classes = 10\n",
        "epochs = 10\n",
        "img_rows, img_cols = 28, 28\n",
        "\n",
        "# the data, split between train and test sets\n",
        "(x_train, y_train), (x_test, y_test) = mnist.load_data()\n",
        "\n",
        "# データのフォーマットを確認\n",
        "if K.image_data_format() == 'channels_first':\n",
        "    x_train = x_train.reshape(x_train.shape[0], 1, img_rows, img_cols)\n",
        "    x_test = x_test.reshape(x_test.shape[0], 1, img_rows, img_cols)\n",
        "    input_shape = (1, img_rows, img_cols)\n",
        "else:\n",
        "    x_train = x_train.reshape(x_train.shape[0], img_rows, img_cols, 1)\n",
        "    x_test = x_test.reshape(x_test.shape[0], img_rows, img_cols, 1)\n",
        "    input_shape = (img_rows, img_cols, 1)\n",
        "\n",
        "# [0-255]の値を[0.0-1.0]に変換\n",
        "x_train = x_train.astype('float32') / 255 \n",
        "x_test = x_test.astype('float32') / 255\n",
        "\n",
        "# convert class vectors to binary class matrices\n",
        "y_train = keras.utils.to_categorical(y_train, num_classes)\n",
        "y_test = keras.utils.to_categorical(y_test, num_classes)\n",
        "\n",
        "# 畳み込みニューラルネットワークを構築\n",
        "model = Sequential()\n",
        "model.add(Conv2D(filters=32, kernel_size=(3, 3), activation='relu', input_shape=input_shape))\n",
        "model.add(Conv2D(filters=64, kernel_size=(3, 3), activation='relu'))\n",
        "model.add(MaxPooling2D(pool_size=(2, 2)))\n",
        "model.add(Dropout(0.25))\n",
        "model.add(Flatten())\n",
        "model.add(Dense(units=128, activation='relu'))\n",
        "model.add(Dropout(0.5))\n",
        "model.add(Dense(units=num_classes, activation='softmax'))\n",
        "\n",
        "# モデルの要約を表示\n",
        "model.summary()\n",
        "\n",
        "# モデルのコンパイル\n",
        "model.compile(loss='categorical_crossentropy',\n",
        "              optimizer=RMSprop(),\n",
        "              metrics=['accuracy'])\n",
        "\n",
        "# 訓練中に適応するコールバックを作成\n",
        "callback = keras.callbacks.TensorBoard(log_dir='./log', histogram_freq=0)\n",
        "\n",
        "# モデルの訓練と評価\n",
        "history = model.fit(x_train, y_train,\n",
        "                    batch_size=batch_size,\n",
        "                    epochs=epochs,\n",
        "                    verbose=1,\n",
        "                    validation_data=(x_test, y_test),\n",
        "                    callbacks=[callback])\n",
        "\n",
        "\n",
        "# 損失値と正解率を取得\n",
        "score = model.evaluate(x_test, y_test, verbose=0)\n",
        "print('Test loss:', score[0])\n",
        "print('Test accuracy:', score[1])\n",
        "\n",
        "# 損失値をグラフ表示\n",
        "plt.plot(history.history['loss'])\n",
        "plt.plot(history.history['val_loss'])\n",
        "plt.title('model loss')\n",
        "plt.ylabel('loss')\n",
        "plt.xlabel('epoch')\n",
        "plt.legend(['train', 'test'], loc='upper left')\n",
        "plt.show()\n",
        "\n",
        "# 正解率をグラフ表示\n",
        "plt.plot(history.history['acc'])\n",
        "plt.plot(history.history['val_acc'])\n",
        "plt.title('model accuracy')\n",
        "plt.ylabel('accuracy')\n",
        "plt.xlabel('epoch')\n",
        "plt.legend(['train', 'test'], loc='upper left')\n",
        "plt.show()"
      ],
      "execution_count": 39,
      "outputs": [
        {
          "output_type": "stream",
          "text": [
            "_________________________________________________________________\n",
            "Layer (type)                 Output Shape              Param #   \n",
            "=================================================================\n",
            "conv2d_25 (Conv2D)           (None, 26, 26, 32)        320       \n",
            "_________________________________________________________________\n",
            "conv2d_26 (Conv2D)           (None, 24, 24, 64)        18496     \n",
            "_________________________________________________________________\n",
            "max_pooling2d_13 (MaxPooling (None, 12, 12, 64)        0         \n",
            "_________________________________________________________________\n",
            "dropout_25 (Dropout)         (None, 12, 12, 64)        0         \n",
            "_________________________________________________________________\n",
            "flatten_13 (Flatten)         (None, 9216)              0         \n",
            "_________________________________________________________________\n",
            "dense_25 (Dense)             (None, 128)               1179776   \n",
            "_________________________________________________________________\n",
            "dropout_26 (Dropout)         (None, 128)               0         \n",
            "_________________________________________________________________\n",
            "dense_26 (Dense)             (None, 10)                1290      \n",
            "=================================================================\n",
            "Total params: 1,199,882\n",
            "Trainable params: 1,199,882\n",
            "Non-trainable params: 0\n",
            "_________________________________________________________________\n",
            "Train on 60000 samples, validate on 10000 samples\n",
            "Epoch 1/10\n",
            "60000/60000 [==============================] - 10s 164us/step - loss: 0.2115 - acc: 0.9363 - val_loss: 0.0544 - val_acc: 0.9812\n",
            "Epoch 2/10\n",
            "60000/60000 [==============================] - 9s 154us/step - loss: 0.0802 - acc: 0.9768 - val_loss: 0.0436 - val_acc: 0.9849\n",
            "Epoch 3/10\n",
            "60000/60000 [==============================] - 9s 154us/step - loss: 0.0622 - acc: 0.9813 - val_loss: 0.0397 - val_acc: 0.9876\n",
            "Epoch 4/10\n",
            "60000/60000 [==============================] - 9s 154us/step - loss: 0.0527 - acc: 0.9841 - val_loss: 0.0343 - val_acc: 0.9894\n",
            "Epoch 5/10\n",
            "60000/60000 [==============================] - 9s 154us/step - loss: 0.0499 - acc: 0.9854 - val_loss: 0.0316 - val_acc: 0.9896\n",
            "Epoch 6/10\n",
            "60000/60000 [==============================] - 9s 153us/step - loss: 0.0495 - acc: 0.9864 - val_loss: 0.0365 - val_acc: 0.9891\n",
            "Epoch 7/10\n",
            "60000/60000 [==============================] - 10s 160us/step - loss: 0.0493 - acc: 0.9863 - val_loss: 0.0337 - val_acc: 0.9890\n",
            "Epoch 8/10\n",
            "60000/60000 [==============================] - 10s 161us/step - loss: 0.0506 - acc: 0.9861 - val_loss: 0.0426 - val_acc: 0.9874\n",
            "Epoch 9/10\n",
            "60000/60000 [==============================] - 10s 162us/step - loss: 0.0523 - acc: 0.9859 - val_loss: 0.0333 - val_acc: 0.9897\n",
            "Epoch 10/10\n",
            "60000/60000 [==============================] - 10s 161us/step - loss: 0.0508 - acc: 0.9859 - val_loss: 0.0294 - val_acc: 0.9909\n",
            "Test loss: 0.029408160386854433\n",
            "Test accuracy: 0.9909\n"
          ],
          "name": "stdout"
        },
        {
          "output_type": "display_data",
          "data": {
            "image/png": "[encoded data removed]",
            "text/plain": [
              "<matplotlib.figure.Figure at 0x7fd09f07cb38>"
            ]
          },
          "metadata": {
            "tags": []
          }
        },
        {
          "output_type": "display_data",
          "data": {
            "image/png": "[encoded data removed]",
            "text/plain": [
              "<matplotlib.figure.Figure at 0x7fd09e9a8438>"
            ]
          },
          "metadata": {
            "tags": []
          }
        }
      ]
    }
  ]
}