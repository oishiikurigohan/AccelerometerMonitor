{
  "nbformat": 4,
  "nbformat_minor": 0,
  "metadata": {
    "colab": {
      "name": "test.ipynb",
      "version": "0.3.2",
      "provenance": [],
      "toc_visible": true,
      "include_colab_link": true
    },
    "kernelspec": {
      "name": "python3",
      "display_name": "Python 3"
    },
    "accelerator": "GPU"
  },
  "cells": [
    {
      "cell_type": "markdown",
      "metadata": {
        "id": "view-in-github",
        "colab_type": "text"
      },
      "source": [
        "[View in Colaboratory](https://colab.research.google.com/github/oishiikurigohan/AccelerometerMonitor/blob/master/test.ipynb)"
      ]
    },
    {
      "metadata": {
        "id": "6SoFZLJhga2d",
        "colab_type": "text"
      },
      "cell_type": "markdown",
      "source": [
        "#Google Colabの環境確認"
      ]
    },
    {
      "metadata": {
        "id": "mOV466hVgRbp",
        "colab_type": "code",
        "colab": {
          "base_uri": "https://localhost:8080/",
          "height": 187
        },
        "outputId": "fc8e7df0-aea6-47fa-fc80-c88aabe4ff85"
      },
      "cell_type": "code",
      "source": [
        "!cat /etc/issue\n",
        "!df -h\n",
        "#!pip freeze\n",
        "#!cat /proc/cpuinfo\n",
        "#!cat /proc/driver/nvidia/gpus/0000:00:04.0/information"
      ],
      "execution_count": 40,
      "outputs": [
        {
          "output_type": "stream",
          "text": [
            "Ubuntu 17.10 \\n \\l\n",
            "\n",
            "Filesystem      Size  Used Avail Use% Mounted on\n",
            "overlay         359G  7.6G  333G   3% /\n",
            "tmpfs           6.4G     0  6.4G   0% /dev\n",
            "tmpfs           6.4G     0  6.4G   0% /sys/fs/cgroup\n",
            "tmpfs           6.4G  249M  6.2G   4% /opt/bin\n",
            "/dev/sda1       365G  9.7G  356G   3% /etc/hosts\n",
            "shm              64M     0   64M   0% /dev/shm\n",
            "tmpfs           6.4G     0  6.4G   0% /sys/firmware\n"
          ],
          "name": "stdout"
        }
      ]
    },
    {
      "metadata": {
        "id": "mZI0fqLsfuRT",
        "colab_type": "text"
      },
      "cell_type": "markdown",
      "source": [
        "#TensorflowがGPUを認識しているか確認\n",
        "device_type: \"GPU\" の表示があればOKです。"
      ]
    },
    {
      "metadata": {
        "id": "E6Bf1AN8eVX8",
        "colab_type": "code",
        "colab": {
          "base_uri": "https://localhost:8080/",
          "height": 272
        },
        "outputId": "e40fcfb2-ae99-462f-b74f-d9708a2b29e5"
      },
      "cell_type": "code",
      "source": [
        "from tensorflow.python.client import device_lib\n",
        "device_lib.list_local_devices()"
      ],
      "execution_count": 41,
      "outputs": [
        {
          "output_type": "execute_result",
          "data": {
            "text/plain": [
              "[name: \"/device:CPU:0\"\n",
              " device_type: \"CPU\"\n",
              " memory_limit: 268435456\n",
              " locality {\n",
              " }\n",
              " incarnation: 1311297832535613279, name: \"/device:GPU:0\"\n",
              " device_type: \"GPU\"\n",
              " memory_limit: 11281989632\n",
              " locality {\n",
              "   bus_id: 1\n",
              "   links {\n",
              "   }\n",
              " }\n",
              " incarnation: 9759993688664087823\n",
              " physical_device_desc: \"device: 0, name: Tesla K80, pci bus id: 0000:00:04.0, compute capability: 3.7\"]"
            ]
          },
          "metadata": {
            "tags": []
          },
          "execution_count": 41
        }
      ]
    },
    {
      "metadata": {
        "id": "evdwNX8xe-Iz",
        "colab_type": "text"
      },
      "cell_type": "markdown",
      "source": [
        "# ngrokのインストール\n",
        "Google ColabでTensorBoardを利用するために、ローカルPCとの接続をトンネリングするツールをインストールします。"
      ]
    },
    {
      "metadata": {
        "id": "tuxy-aabNShG",
        "colab_type": "code",
        "colab": {
          "base_uri": "https://localhost:8080/",
          "height": 102
        },
        "cellView": "code",
        "outputId": "e7ca5d24-def4-4e61-dfa7-f853a7985dde"
      },
      "cell_type": "code",
      "source": [
        "!wget https://bin.equinox.io/c/4VmDzA7iaHb/ngrok-stable-linux-amd64.zip\n",
        "!unzip ngrok-stable-linux-amd64.zip"
      ],
      "execution_count": 42,
      "outputs": [
        {
          "output_type": "stream",
          "text": [
            "\n",
            "Redirecting output to ‘wget-log.2’.\n",
            "Archive:  ngrok-stable-linux-amd64.zip\n",
            "replace ngrok? [y]es, [n]o, [A]ll, [N]one, [r]ename: y\n",
            "  inflating: ngrok                   \n"
          ],
          "name": "stdout"
        }
      ]
    },
    {
      "metadata": {
        "id": "uQ5MLbBTAv3u",
        "colab_type": "text"
      },
      "cell_type": "markdown",
      "source": [
        "# TensorBoardをバックグラウンドで実行"
      ]
    },
    {
      "metadata": {
        "id": "iTNNfftdA1QV",
        "colab_type": "code",
        "colab": {}
      },
      "cell_type": "code",
      "source": [
        "LOG_DIR = './log'\n",
        "get_ipython().system_raw(\n",
        "    'tensorboard --logdir {} --host 0.0.0.0 --port 6006 &'\n",
        "    .format(LOG_DIR)\n",
        ")"
      ],
      "execution_count": 0,
      "outputs": []
    },
    {
      "metadata": {
        "id": "tKCzelOwBPaO",
        "colab_type": "text"
      },
      "cell_type": "markdown",
      "source": [
        "# ngrokバックグラウンドプロセスを起動\n",
        "TensorBoardのポート6006を開放します。"
      ]
    },
    {
      "metadata": {
        "id": "2O_uaEWeBkGF",
        "colab_type": "code",
        "colab": {}
      },
      "cell_type": "code",
      "source": [
        "get_ipython().system_raw('./ngrok http 6006 &')"
      ],
      "execution_count": 0,
      "outputs": []
    },
    {
      "metadata": {
        "id": "ypNRsLc4bDMx",
        "colab_type": "text"
      },
      "cell_type": "markdown",
      "source": [
        "# TensorBoardのURLを取得"
      ]
    },
    {
      "metadata": {
        "id": "2hi2R_adbMei",
        "colab_type": "code",
        "colab": {
          "base_uri": "https://localhost:8080/",
          "height": 34
        },
        "outputId": "d2b16150-a453-4574-ac53-f8928c5aa707"
      },
      "cell_type": "code",
      "source": [
        "!curl -s http://localhost:4040/api/tunnels | python3 -c \\\n",
        "    \"import sys, json; print(json.load(sys.stdin)['tunnels'][0]['public_url'])\""
      ],
      "execution_count": 45,
      "outputs": [
        {
          "output_type": "stream",
          "text": [
            "http://33327919.ngrok.io\n"
          ],
          "name": "stdout"
        }
      ]
    },
    {
      "metadata": {
        "id": "pmPdxEoggxuw",
        "colab_type": "text"
      },
      "cell_type": "markdown",
      "source": [
        "# KerasのCNNモデルを実行"
      ]
    },
    {
      "metadata": {
        "id": "F0WTyPWqCS61",
        "colab_type": "code",
        "colab": {
          "base_uri": "https://localhost:8080/",
          "height": 1537
        },
        "outputId": "beb54b79-53c4-474e-91d5-dc0e44fdbb6c"
      },
      "cell_type": "code",
      "source": [
        "import keras\n",
        "from keras.datasets import mnist\n",
        "from keras.models import Sequential\n",
        "from keras.layers import Dense, Dropout, Flatten\n",
        "from keras.layers import Conv2D, MaxPooling2D\n",
        "from keras.optimizers import RMSprop\n",
        "import matplotlib.pyplot as plt\n",
        "from keras import backend as K\n",
        "\n",
        "batch_size = 128\n",
        "num_classes = 10\n",
        "epochs = 10\n",
        "img_rows, img_cols = 28, 28\n",
        "\n",
        "# the data, split between train and test sets\n",
        "(x_train, y_train), (x_test, y_test) = mnist.load_data()\n",
        "\n",
        "# データのフォーマットを確認\n",
        "if K.image_data_format() == 'channels_first':\n",
        "    x_train = x_train.reshape(x_train.shape[0], 1, img_rows, img_cols)\n",
        "    x_test = x_test.reshape(x_test.shape[0], 1, img_rows, img_cols)\n",
        "    input_shape = (1, img_rows, img_cols)\n",
        "else:\n",
        "    x_train = x_train.reshape(x_train.shape[0], img_rows, img_cols, 1)\n",
        "    x_test = x_test.reshape(x_test.shape[0], img_rows, img_cols, 1)\n",
        "    input_shape = (img_rows, img_cols, 1)\n",
        "\n",
        "# [0-255]の値を[0.0-1.0]に変換\n",
        "x_train = x_train.astype('float32') / 255 \n",
        "x_test = x_test.astype('float32') / 255\n",
        "\n",
        "# convert class vectors to binary class matrices\n",
        "y_train = keras.utils.to_categorical(y_train, num_classes)\n",
        "y_test = keras.utils.to_categorical(y_test, num_classes)\n",
        "\n",
        "# 畳み込みニューラルネットワークを構築\n",
        "model = Sequential()\n",
        "model.add(Conv2D(filters=32, kernel_size=(3, 3), activation='relu', input_shape=input_shape))\n",
        "model.add(Conv2D(filters=64, kernel_size=(3, 3), activation='relu'))\n",
        "model.add(MaxPooling2D(pool_size=(2, 2)))\n",
        "model.add(Dropout(0.25))\n",
        "model.add(Flatten())\n",
        "model.add(Dense(units=128, activation='relu'))\n",
        "model.add(Dropout(0.5))\n",
        "model.add(Dense(units=num_classes, activation='softmax'))\n",
        "\n",
        "# モデルの要約を表示\n",
        "model.summary()\n",
        "\n",
        "# モデルのコンパイル\n",
        "model.compile(loss='categorical_crossentropy',\n",
        "              optimizer=RMSprop(),\n",
        "              metrics=['accuracy'])\n",
        "\n",
        "# 訓練中に適応するコールバックを作成\n",
        "callback = keras.callbacks.TensorBoard(log_dir='./log', histogram_freq=0)\n",
        "\n",
        "# モデルの訓練と評価\n",
        "history = model.fit(x_train, y_train,\n",
        "                    batch_size=batch_size,\n",
        "                    epochs=epochs,\n",
        "                    verbose=1,\n",
        "                    validation_data=(x_test, y_test),\n",
        "                    callbacks=[callback])\n",
        "\n",
        "\n",
        "# 損失値と正解率を取得\n",
        "score = model.evaluate(x_test, y_test, verbose=0)\n",
        "print('Test loss:', score[0])\n",
        "print('Test accuracy:', score[1])\n",
        "\n",
        "# 損失値をグラフ表示\n",
        "plt.plot(history.history['loss'])\n",
        "plt.plot(history.history['val_loss'])\n",
        "plt.title('model loss')\n",
        "plt.ylabel('loss')\n",
        "plt.xlabel('epoch')\n",
        "plt.legend(['train', 'test'], loc='upper left')\n",
        "plt.show()\n",
        "\n",
        "# 正解率をグラフ表示\n",
        "plt.plot(history.history['acc'])\n",
        "plt.plot(history.history['val_acc'])\n",
        "plt.title('model accuracy')\n",
        "plt.ylabel('accuracy')\n",
        "plt.xlabel('epoch')\n",
        "plt.legend(['train', 'test'], loc='upper left')\n",
        "plt.show()"
      ],
      "execution_count": 46,
      "outputs": [
        {
          "output_type": "stream",
          "text": [
            "_________________________________________________________________\n",
            "Layer (type)                 Output Shape              Param #   \n",
            "=================================================================\n",
            "conv2d_27 (Conv2D)           (None, 26, 26, 32)        320       \n",
            "_________________________________________________________________\n",
            "conv2d_28 (Conv2D)           (None, 24, 24, 64)        18496     \n",
            "_________________________________________________________________\n",
            "max_pooling2d_14 (MaxPooling (None, 12, 12, 64)        0         \n",
            "_________________________________________________________________\n",
            "dropout_27 (Dropout)         (None, 12, 12, 64)        0         \n",
            "_________________________________________________________________\n",
            "flatten_14 (Flatten)         (None, 9216)              0         \n",
            "_________________________________________________________________\n",
            "dense_27 (Dense)             (None, 128)               1179776   \n",
            "_________________________________________________________________\n",
            "dropout_28 (Dropout)         (None, 128)               0         \n",
            "_________________________________________________________________\n",
            "dense_28 (Dense)             (None, 10)                1290      \n",
            "=================================================================\n",
            "Total params: 1,199,882\n",
            "Trainable params: 1,199,882\n",
            "Non-trainable params: 0\n",
            "_________________________________________________________________\n",
            "Train on 60000 samples, validate on 10000 samples\n",
            "Epoch 1/10\n",
            "60000/60000 [==============================] - 11s 177us/step - loss: 0.2044 - acc: 0.9377 - val_loss: 0.0566 - val_acc: 0.9816\n",
            "Epoch 2/10\n",
            "60000/60000 [==============================] - 10s 160us/step - loss: 0.0779 - acc: 0.9767 - val_loss: 0.0381 - val_acc: 0.9881\n",
            "Epoch 3/10\n",
            "60000/60000 [==============================] - 10s 162us/step - loss: 0.0621 - acc: 0.9820 - val_loss: 0.0339 - val_acc: 0.9889\n",
            "Epoch 4/10\n",
            "60000/60000 [==============================] - 10s 160us/step - loss: 0.0516 - acc: 0.9847 - val_loss: 0.0351 - val_acc: 0.9882\n",
            "Epoch 5/10\n",
            "60000/60000 [==============================] - 9s 156us/step - loss: 0.0473 - acc: 0.9859 - val_loss: 0.0309 - val_acc: 0.9901\n",
            "Epoch 6/10\n",
            "60000/60000 [==============================] - 9s 155us/step - loss: 0.0435 - acc: 0.9871 - val_loss: 0.0295 - val_acc: 0.9910\n",
            "Epoch 7/10\n",
            "60000/60000 [==============================] - 9s 157us/step - loss: 0.0397 - acc: 0.9887 - val_loss: 0.0288 - val_acc: 0.9909\n",
            "Epoch 8/10\n",
            "60000/60000 [==============================] - 10s 158us/step - loss: 0.0410 - acc: 0.9885 - val_loss: 0.0320 - val_acc: 0.9906\n",
            "Epoch 9/10\n",
            "60000/60000 [==============================] - 10s 160us/step - loss: 0.0425 - acc: 0.9884 - val_loss: 0.0359 - val_acc: 0.9899\n",
            "Epoch 10/10\n",
            "60000/60000 [==============================] - 10s 160us/step - loss: 0.0430 - acc: 0.9880 - val_loss: 0.0326 - val_acc: 0.9906\n",
            "Test loss: 0.032566819253880386\n",
            "Test accuracy: 0.9906\n"
          ],
          "name": "stdout"
        },
        {
          "output_type": "display_data",
          "data": {
            "image/png": "[encoded data removed]",
            "text/plain": [
              "<matplotlib.figure.Figure at 0x7fd092a1ff98>"
            ]
          },
          "metadata": {
            "tags": []
          }
        },
        {
          "output_type": "display_data",
          "data": {
            "image/png": "[encoded data removed]",
            "text/plain": [
              "<matplotlib.figure.Figure at 0x7fd092a115c0>"
            ]
          },
          "metadata": {
            "tags": []
          }
        }
      ]
    }
  ]
}